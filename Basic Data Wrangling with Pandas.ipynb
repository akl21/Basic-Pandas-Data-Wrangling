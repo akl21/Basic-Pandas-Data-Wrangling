{
 "cells": [
  {
   "cell_type": "markdown",
   "id": "a508f1b9",
   "metadata": {},
   "source": [
    "## Load Libraries and Create Data Frame"
   ]
  },
  {
   "cell_type": "code",
   "execution_count": null,
   "id": "081c9fa2",
   "metadata": {},
   "outputs": [],
   "source": [
    "#import Pandas and Numpy\n",
    "import pandas as pd\n",
    "import numpy as np\n",
    "\n",
    "#enable viewing of graphical output in notebook\n",
    "%matplotlib inline"
   ]
  },
  {
   "cell_type": "code",
   "execution_count": 19,
   "id": "da9afb03",
   "metadata": {},
   "outputs": [
    {
     "data": {
      "text/html": [
       "<div>\n",
       "<style scoped>\n",
       "    .dataframe tbody tr th:only-of-type {\n",
       "        vertical-align: middle;\n",
       "    }\n",
       "\n",
       "    .dataframe tbody tr th {\n",
       "        vertical-align: top;\n",
       "    }\n",
       "\n",
       "    .dataframe thead th {\n",
       "        text-align: right;\n",
       "    }\n",
       "</style>\n",
       "<table border=\"1\" class=\"dataframe\">\n",
       "  <thead>\n",
       "    <tr style=\"text-align: right;\">\n",
       "      <th></th>\n",
       "      <th>Pam</th>\n",
       "      <th>Bob</th>\n",
       "      <th>Sally</th>\n",
       "      <th>Mike</th>\n",
       "    </tr>\n",
       "  </thead>\n",
       "  <tbody>\n",
       "    <tr>\n",
       "      <th>1</th>\n",
       "      <td>90</td>\n",
       "      <td>60</td>\n",
       "      <td>80</td>\n",
       "      <td>100.0</td>\n",
       "    </tr>\n",
       "    <tr>\n",
       "      <th>2</th>\n",
       "      <td>85</td>\n",
       "      <td>70</td>\n",
       "      <td>85</td>\n",
       "      <td>95.0</td>\n",
       "    </tr>\n",
       "    <tr>\n",
       "      <th>3</th>\n",
       "      <td>100</td>\n",
       "      <td>75</td>\n",
       "      <td>80</td>\n",
       "      <td>NaN</td>\n",
       "    </tr>\n",
       "    <tr>\n",
       "      <th>4</th>\n",
       "      <td>75</td>\n",
       "      <td>100</td>\n",
       "      <td>90</td>\n",
       "      <td>100.0</td>\n",
       "    </tr>\n",
       "    <tr>\n",
       "      <th>5</th>\n",
       "      <td>100</td>\n",
       "      <td>80</td>\n",
       "      <td>95</td>\n",
       "      <td>90.0</td>\n",
       "    </tr>\n",
       "  </tbody>\n",
       "</table>\n",
       "</div>"
      ],
      "text/plain": [
       "   Pam  Bob  Sally   Mike\n",
       "1   90   60     80  100.0\n",
       "2   85   70     85   95.0\n",
       "3  100   75     80    NaN\n",
       "4   75  100     90  100.0\n",
       "5  100   80     95   90.0"
      ]
     },
     "execution_count": 19,
     "metadata": {},
     "output_type": "execute_result"
    }
   ],
   "source": [
    "#Create a toy data frame of test scores\n",
    "#using a dictionary, mapping the student's test scores,\n",
    "#stored as lists, to the student's name as the dict key\n",
    "df = pd.DataFrame({\"Pam\":[90, 85, 100, 75, 100], \"Bob\":[60, 70, 75, 100, 80], \n",
    "                   \"Sally\":[80, 85, 80, 90, 95], \"Mike\":[100, 95,None,100, 90]},\n",
    "                  index = range(1,6))\n",
    "\n",
    "#view the toy data frame\n",
    "df"
   ]
  },
  {
   "cell_type": "markdown",
   "id": "b408aaa4",
   "metadata": {},
   "source": [
    "## Investigate Data Frame"
   ]
  },
  {
   "cell_type": "code",
   "execution_count": 20,
   "id": "d5a63e8a",
   "metadata": {},
   "outputs": [
    {
     "data": {
      "text/plain": [
       "(5, 4)"
      ]
     },
     "execution_count": 20,
     "metadata": {},
     "output_type": "execute_result"
    }
   ],
   "source": [
    "#use the shape property of the data frame\n",
    "#to view a tuple of the the number of rows and columns\n",
    "df.shape"
   ]
  },
  {
   "cell_type": "code",
   "execution_count": 21,
   "id": "e81eff5a",
   "metadata": {},
   "outputs": [
    {
     "name": "stdout",
     "output_type": "stream",
     "text": [
      "<class 'pandas.core.frame.DataFrame'>\n",
      "RangeIndex: 5 entries, 1 to 5\n",
      "Data columns (total 4 columns):\n",
      " #   Column  Non-Null Count  Dtype  \n",
      "---  ------  --------------  -----  \n",
      " 0   Pam     5 non-null      int64  \n",
      " 1   Bob     5 non-null      int64  \n",
      " 2   Sally   5 non-null      int64  \n",
      " 3   Mike    4 non-null      float64\n",
      "dtypes: float64(1), int64(3)\n",
      "memory usage: 292.0 bytes\n"
     ]
    }
   ],
   "source": [
    "#use the function info() to look at the class of df\n",
    "#the data column names, the data column types, and more\n",
    "df.info()"
   ]
  },
  {
   "cell_type": "code",
   "execution_count": 22,
   "id": "ef52aac0",
   "metadata": {},
   "outputs": [
    {
     "data": {
      "text/html": [
       "<div>\n",
       "<style scoped>\n",
       "    .dataframe tbody tr th:only-of-type {\n",
       "        vertical-align: middle;\n",
       "    }\n",
       "\n",
       "    .dataframe tbody tr th {\n",
       "        vertical-align: top;\n",
       "    }\n",
       "\n",
       "    .dataframe thead th {\n",
       "        text-align: right;\n",
       "    }\n",
       "</style>\n",
       "<table border=\"1\" class=\"dataframe\">\n",
       "  <thead>\n",
       "    <tr style=\"text-align: right;\">\n",
       "      <th></th>\n",
       "      <th>Pam</th>\n",
       "      <th>Bob</th>\n",
       "      <th>Sally</th>\n",
       "      <th>Mike</th>\n",
       "    </tr>\n",
       "  </thead>\n",
       "  <tbody>\n",
       "    <tr>\n",
       "      <th>count</th>\n",
       "      <td>5.000000</td>\n",
       "      <td>5.000000</td>\n",
       "      <td>5.000000</td>\n",
       "      <td>4.000000</td>\n",
       "    </tr>\n",
       "    <tr>\n",
       "      <th>mean</th>\n",
       "      <td>90.000000</td>\n",
       "      <td>77.000000</td>\n",
       "      <td>86.000000</td>\n",
       "      <td>96.250000</td>\n",
       "    </tr>\n",
       "    <tr>\n",
       "      <th>std</th>\n",
       "      <td>10.606602</td>\n",
       "      <td>14.832397</td>\n",
       "      <td>6.519202</td>\n",
       "      <td>4.787136</td>\n",
       "    </tr>\n",
       "    <tr>\n",
       "      <th>min</th>\n",
       "      <td>75.000000</td>\n",
       "      <td>60.000000</td>\n",
       "      <td>80.000000</td>\n",
       "      <td>90.000000</td>\n",
       "    </tr>\n",
       "    <tr>\n",
       "      <th>25%</th>\n",
       "      <td>85.000000</td>\n",
       "      <td>70.000000</td>\n",
       "      <td>80.000000</td>\n",
       "      <td>93.750000</td>\n",
       "    </tr>\n",
       "    <tr>\n",
       "      <th>50%</th>\n",
       "      <td>90.000000</td>\n",
       "      <td>75.000000</td>\n",
       "      <td>85.000000</td>\n",
       "      <td>97.500000</td>\n",
       "    </tr>\n",
       "    <tr>\n",
       "      <th>75%</th>\n",
       "      <td>100.000000</td>\n",
       "      <td>80.000000</td>\n",
       "      <td>90.000000</td>\n",
       "      <td>100.000000</td>\n",
       "    </tr>\n",
       "    <tr>\n",
       "      <th>max</th>\n",
       "      <td>100.000000</td>\n",
       "      <td>100.000000</td>\n",
       "      <td>95.000000</td>\n",
       "      <td>100.000000</td>\n",
       "    </tr>\n",
       "  </tbody>\n",
       "</table>\n",
       "</div>"
      ],
      "text/plain": [
       "              Pam         Bob      Sally        Mike\n",
       "count    5.000000    5.000000   5.000000    4.000000\n",
       "mean    90.000000   77.000000  86.000000   96.250000\n",
       "std     10.606602   14.832397   6.519202    4.787136\n",
       "min     75.000000   60.000000  80.000000   90.000000\n",
       "25%     85.000000   70.000000  80.000000   93.750000\n",
       "50%     90.000000   75.000000  85.000000   97.500000\n",
       "75%    100.000000   80.000000  90.000000  100.000000\n",
       "max    100.000000  100.000000  95.000000  100.000000"
      ]
     },
     "execution_count": 22,
     "metadata": {},
     "output_type": "execute_result"
    }
   ],
   "source": [
    "#use the function describe() to look at some \n",
    "#statistical descriptions of the columns\n",
    "df.describe()"
   ]
  },
  {
   "cell_type": "code",
   "execution_count": 23,
   "id": "6da5b748",
   "metadata": {},
   "outputs": [
    {
     "data": {
      "text/plain": [
       "Pam      90.00\n",
       "Bob      77.00\n",
       "Sally    86.00\n",
       "Mike     96.25\n",
       "dtype: float64"
      ]
     },
     "execution_count": 23,
     "metadata": {},
     "output_type": "execute_result"
    }
   ],
   "source": [
    "#find the mean of each student's scores\n",
    "df.mean()"
   ]
  },
  {
   "cell_type": "code",
   "execution_count": 24,
   "id": "c0f55b52",
   "metadata": {},
   "outputs": [
    {
     "data": {
      "text/plain": [
       "Pam      100.0\n",
       "Bob      100.0\n",
       "Sally     95.0\n",
       "Mike     100.0\n",
       "dtype: float64"
      ]
     },
     "execution_count": 24,
     "metadata": {},
     "output_type": "execute_result"
    }
   ],
   "source": [
    "#find the maximum of each student's scores\n",
    "df.max()"
   ]
  },
  {
   "cell_type": "code",
   "execution_count": 25,
   "id": "8835f9d9",
   "metadata": {},
   "outputs": [
    {
     "data": {
      "text/plain": [
       "80"
      ]
     },
     "execution_count": 25,
     "metadata": {},
     "output_type": "execute_result"
    }
   ],
   "source": [
    "#determine Sally's minimum score\n",
    "df[\"Sally\"].min()"
   ]
  },
  {
   "cell_type": "markdown",
   "id": "a68581eb",
   "metadata": {},
   "source": [
    "## Use Chained Indexing To Drill Into Data Frame"
   ]
  },
  {
   "cell_type": "code",
   "execution_count": 26,
   "id": "d24b6483",
   "metadata": {},
   "outputs": [
    {
     "data": {
      "text/plain": [
       "80"
      ]
     },
     "execution_count": 26,
     "metadata": {},
     "output_type": "execute_result"
    }
   ],
   "source": [
    "#Find Sally's first test score.\n",
    "#Select Sally's column from the data frame\n",
    "#using the column label\n",
    "#thus creating a series. \n",
    "#Then index into that series with a number.\n",
    "#Even though Python has 0-based indexing,\n",
    "#we set our indexing to start at 1\n",
    "#when we created the data frame.\n",
    "#So Sally's first score is at index 1.\n",
    "df[\"Sally\"][1]"
   ]
  },
  {
   "cell_type": "code",
   "execution_count": 27,
   "id": "8ec76f35",
   "metadata": {},
   "outputs": [
    {
     "data": {
      "text/plain": [
       "2     85\n",
       "3    100\n",
       "4     75\n",
       "Name: Pam, dtype: int64"
      ]
     },
     "execution_count": 27,
     "metadata": {},
     "output_type": "execute_result"
    }
   ],
   "source": [
    "#Find Pam's second, third, and fourth score.\n",
    "#Use indexing with lists.\n",
    "df[\"Pam\"][[2,3,4]]"
   ]
  },
  {
   "cell_type": "code",
   "execution_count": null,
   "id": "3c3a3d3c",
   "metadata": {},
   "outputs": [],
   "source": [
    "#Select Mike and Sally's third, fourth, and fifth scores.\n",
    "#This time I use a slice to select all the rows after the 2nd row\n",
    "#and then index into the resulting data frame using the column names.\n",
    "df[2:][[\"Mike\", \"Sally\"]]"
   ]
  },
  {
   "cell_type": "markdown",
   "id": "e7db8472",
   "metadata": {},
   "source": [
    "## Indexing into Data Frame Using loc and iloc"
   ]
  },
  {
   "cell_type": "code",
   "execution_count": 34,
   "id": "2c9e86e6",
   "metadata": {},
   "outputs": [
    {
     "data": {
      "text/plain": [
       "80"
      ]
     },
     "execution_count": 34,
     "metadata": {},
     "output_type": "execute_result"
    }
   ],
   "source": [
    "#Since the row index names are integers, you can use loc\n",
    "#to select Sally's first score with the following code.\n",
    "#loc uses names instead of integer locations to index.\n",
    "df.loc[1,\"Sally\"]"
   ]
  },
  {
   "cell_type": "code",
   "execution_count": 35,
   "id": "d3c9b6b5",
   "metadata": {},
   "outputs": [
    {
     "data": {
      "text/plain": [
       "80"
      ]
     },
     "execution_count": 35,
     "metadata": {},
     "output_type": "execute_result"
    }
   ],
   "source": [
    "#Now select Sally's first score using iloc.\n",
    "#Since Python uses 0-based indexing\n",
    "#Sally's first score is located at (0,2)\n",
    "#in the data frame.\n",
    "df.iloc[0,2]"
   ]
  },
  {
   "cell_type": "code",
   "execution_count": 37,
   "id": "21cdd7f6",
   "metadata": {},
   "outputs": [
    {
     "data": {
      "text/html": [
       "<div>\n",
       "<style scoped>\n",
       "    .dataframe tbody tr th:only-of-type {\n",
       "        vertical-align: middle;\n",
       "    }\n",
       "\n",
       "    .dataframe tbody tr th {\n",
       "        vertical-align: top;\n",
       "    }\n",
       "\n",
       "    .dataframe thead th {\n",
       "        text-align: right;\n",
       "    }\n",
       "</style>\n",
       "<table border=\"1\" class=\"dataframe\">\n",
       "  <thead>\n",
       "    <tr style=\"text-align: right;\">\n",
       "      <th></th>\n",
       "      <th>Pam</th>\n",
       "      <th>Bob</th>\n",
       "      <th>Sally</th>\n",
       "      <th>Mike</th>\n",
       "    </tr>\n",
       "  </thead>\n",
       "  <tbody>\n",
       "    <tr>\n",
       "      <th>First</th>\n",
       "      <td>90</td>\n",
       "      <td>60</td>\n",
       "      <td>80</td>\n",
       "      <td>100.0</td>\n",
       "    </tr>\n",
       "    <tr>\n",
       "      <th>Second</th>\n",
       "      <td>85</td>\n",
       "      <td>70</td>\n",
       "      <td>85</td>\n",
       "      <td>95.0</td>\n",
       "    </tr>\n",
       "    <tr>\n",
       "      <th>Third</th>\n",
       "      <td>100</td>\n",
       "      <td>75</td>\n",
       "      <td>80</td>\n",
       "      <td>NaN</td>\n",
       "    </tr>\n",
       "    <tr>\n",
       "      <th>Fourth</th>\n",
       "      <td>75</td>\n",
       "      <td>100</td>\n",
       "      <td>90</td>\n",
       "      <td>100.0</td>\n",
       "    </tr>\n",
       "    <tr>\n",
       "      <th>Fifth</th>\n",
       "      <td>100</td>\n",
       "      <td>80</td>\n",
       "      <td>95</td>\n",
       "      <td>90.0</td>\n",
       "    </tr>\n",
       "  </tbody>\n",
       "</table>\n",
       "</div>"
      ],
      "text/plain": [
       "        Pam  Bob  Sally   Mike\n",
       "First    90   60     80  100.0\n",
       "Second   85   70     85   95.0\n",
       "Third   100   75     80    NaN\n",
       "Fourth   75  100     90  100.0\n",
       "Fifth   100   80     95   90.0"
      ]
     },
     "execution_count": 37,
     "metadata": {},
     "output_type": "execute_result"
    }
   ],
   "source": [
    "#Now we will create a new data frame from the first\n",
    "#and re-index the rows with string labels instead of integers\n",
    "new_df = df\n",
    "new_df.index = [\"First\", \"Second\", \"Third\", \"Fourth\", \"Fifth\"]\n",
    "\n",
    "#view new_df\n",
    "new_df"
   ]
  },
  {
   "cell_type": "code",
   "execution_count": 40,
   "id": "bf470e6b",
   "metadata": {},
   "outputs": [
    {
     "data": {
      "text/plain": [
       "95.0"
      ]
     },
     "execution_count": 40,
     "metadata": {},
     "output_type": "execute_result"
    }
   ],
   "source": [
    "#Now find Mike's second score using loc and iloc.\n",
    "#First use loc.\n",
    "new_df.loc[\"Second\", \"Mike\"]"
   ]
  },
  {
   "cell_type": "code",
   "execution_count": 41,
   "id": "905755a1",
   "metadata": {},
   "outputs": [
    {
     "data": {
      "text/plain": [
       "95.0"
      ]
     },
     "execution_count": 41,
     "metadata": {},
     "output_type": "execute_result"
    }
   ],
   "source": [
    "#Now use iloc (integer-based indexing).\n",
    "new_df.iloc[1,3]"
   ]
  },
  {
   "cell_type": "code",
   "execution_count": 42,
   "id": "8950c842",
   "metadata": {},
   "outputs": [
    {
     "data": {
      "text/plain": [
       "First     100.0\n",
       "Second     95.0\n",
       "Fourth    100.0\n",
       "Fifth      90.0\n",
       "Name: Mike, dtype: float64"
      ]
     },
     "execution_count": 42,
     "metadata": {},
     "output_type": "execute_result"
    }
   ],
   "source": [
    "#Use loc to find all of Mike's scores but the third\n",
    "new_df.loc[[\"First\",\"Second\",\"Fourth\",\"Fifth\"], \"Mike\"]"
   ]
  },
  {
   "cell_type": "markdown",
   "id": "509f97de",
   "metadata": {},
   "source": [
    "## Filtering with Booleans"
   ]
  },
  {
   "cell_type": "code",
   "execution_count": 50,
   "id": "7ffbdba7",
   "metadata": {},
   "outputs": [
    {
     "data": {
      "text/html": [
       "<div>\n",
       "<style scoped>\n",
       "    .dataframe tbody tr th:only-of-type {\n",
       "        vertical-align: middle;\n",
       "    }\n",
       "\n",
       "    .dataframe tbody tr th {\n",
       "        vertical-align: top;\n",
       "    }\n",
       "\n",
       "    .dataframe thead th {\n",
       "        text-align: right;\n",
       "    }\n",
       "</style>\n",
       "<table border=\"1\" class=\"dataframe\">\n",
       "  <thead>\n",
       "    <tr style=\"text-align: right;\">\n",
       "      <th></th>\n",
       "      <th>First</th>\n",
       "      <th>Second</th>\n",
       "      <th>Third</th>\n",
       "      <th>Fourth</th>\n",
       "      <th>Fifth</th>\n",
       "    </tr>\n",
       "  </thead>\n",
       "  <tbody>\n",
       "    <tr>\n",
       "      <th>Pam</th>\n",
       "      <td>90.0</td>\n",
       "      <td>85.0</td>\n",
       "      <td>100.0</td>\n",
       "      <td>75.0</td>\n",
       "      <td>100.0</td>\n",
       "    </tr>\n",
       "    <tr>\n",
       "      <th>Mike</th>\n",
       "      <td>100.0</td>\n",
       "      <td>95.0</td>\n",
       "      <td>NaN</td>\n",
       "      <td>100.0</td>\n",
       "      <td>90.0</td>\n",
       "    </tr>\n",
       "  </tbody>\n",
       "</table>\n",
       "</div>"
      ],
      "text/plain": [
       "      First  Second  Third  Fourth  Fifth\n",
       "Pam    90.0    85.0  100.0    75.0  100.0\n",
       "Mike  100.0    95.0    NaN   100.0   90.0"
      ]
     },
     "execution_count": 50,
     "metadata": {},
     "output_type": "execute_result"
    }
   ],
   "source": [
    "#Determine which students scored above an 80 on the first test.\n",
    "#First use a transposed data frame and boolean filtering.\n",
    "new_df_t = new_df.T\n",
    "new_df_t[new_df_t[\"First\"] > 80]"
   ]
  },
  {
   "cell_type": "code",
   "execution_count": 51,
   "id": "db54ef6b",
   "metadata": {},
   "outputs": [
    {
     "data": {
      "text/html": [
       "<div>\n",
       "<style scoped>\n",
       "    .dataframe tbody tr th:only-of-type {\n",
       "        vertical-align: middle;\n",
       "    }\n",
       "\n",
       "    .dataframe tbody tr th {\n",
       "        vertical-align: top;\n",
       "    }\n",
       "\n",
       "    .dataframe thead th {\n",
       "        text-align: right;\n",
       "    }\n",
       "</style>\n",
       "<table border=\"1\" class=\"dataframe\">\n",
       "  <thead>\n",
       "    <tr style=\"text-align: right;\">\n",
       "      <th></th>\n",
       "      <th>Pam</th>\n",
       "      <th>Mike</th>\n",
       "    </tr>\n",
       "  </thead>\n",
       "  <tbody>\n",
       "    <tr>\n",
       "      <th>First</th>\n",
       "      <td>90</td>\n",
       "      <td>100.0</td>\n",
       "    </tr>\n",
       "    <tr>\n",
       "      <th>Second</th>\n",
       "      <td>85</td>\n",
       "      <td>95.0</td>\n",
       "    </tr>\n",
       "    <tr>\n",
       "      <th>Third</th>\n",
       "      <td>100</td>\n",
       "      <td>NaN</td>\n",
       "    </tr>\n",
       "    <tr>\n",
       "      <th>Fourth</th>\n",
       "      <td>75</td>\n",
       "      <td>100.0</td>\n",
       "    </tr>\n",
       "    <tr>\n",
       "      <th>Fifth</th>\n",
       "      <td>100</td>\n",
       "      <td>90.0</td>\n",
       "    </tr>\n",
       "  </tbody>\n",
       "</table>\n",
       "</div>"
      ],
      "text/plain": [
       "        Pam   Mike\n",
       "First    90  100.0\n",
       "Second   85   95.0\n",
       "Third   100    NaN\n",
       "Fourth   75  100.0\n",
       "Fifth   100   90.0"
      ]
     },
     "execution_count": 51,
     "metadata": {},
     "output_type": "execute_result"
    }
   ],
   "source": [
    "#Now use the original data frame and loc\n",
    "new_df.loc[:,new_df.loc[\"First\"] > 80]"
   ]
  },
  {
   "cell_type": "code",
   "execution_count": 52,
   "id": "0ffbefa1",
   "metadata": {},
   "outputs": [
    {
     "data": {
      "text/html": [
       "<div>\n",
       "<style scoped>\n",
       "    .dataframe tbody tr th:only-of-type {\n",
       "        vertical-align: middle;\n",
       "    }\n",
       "\n",
       "    .dataframe tbody tr th {\n",
       "        vertical-align: top;\n",
       "    }\n",
       "\n",
       "    .dataframe thead th {\n",
       "        text-align: right;\n",
       "    }\n",
       "</style>\n",
       "<table border=\"1\" class=\"dataframe\">\n",
       "  <thead>\n",
       "    <tr style=\"text-align: right;\">\n",
       "      <th></th>\n",
       "      <th>Sally</th>\n",
       "      <th>Mike</th>\n",
       "    </tr>\n",
       "  </thead>\n",
       "  <tbody>\n",
       "    <tr>\n",
       "      <th>First</th>\n",
       "      <td>80</td>\n",
       "      <td>100.0</td>\n",
       "    </tr>\n",
       "    <tr>\n",
       "      <th>Second</th>\n",
       "      <td>85</td>\n",
       "      <td>95.0</td>\n",
       "    </tr>\n",
       "    <tr>\n",
       "      <th>Third</th>\n",
       "      <td>80</td>\n",
       "      <td>NaN</td>\n",
       "    </tr>\n",
       "    <tr>\n",
       "      <th>Fourth</th>\n",
       "      <td>90</td>\n",
       "      <td>100.0</td>\n",
       "    </tr>\n",
       "    <tr>\n",
       "      <th>Fifth</th>\n",
       "      <td>95</td>\n",
       "      <td>90.0</td>\n",
       "    </tr>\n",
       "  </tbody>\n",
       "</table>\n",
       "</div>"
      ],
      "text/plain": [
       "        Sally   Mike\n",
       "First      80  100.0\n",
       "Second     85   95.0\n",
       "Third      80    NaN\n",
       "Fourth     90  100.0\n",
       "Fifth      95   90.0"
      ]
     },
     "execution_count": 52,
     "metadata": {},
     "output_type": "execute_result"
    }
   ],
   "source": [
    "#Which students scored above an 80 on the fourth and fifth test?\n",
    "new_df.loc[:, ((new_df.loc[\"Fourth\"] > 80) & (new_df.loc[\"Fifth\"] > 80))]"
   ]
  },
  {
   "cell_type": "code",
   "execution_count": null,
   "id": "1cb60845",
   "metadata": {},
   "outputs": [],
   "source": []
  }
 ],
 "metadata": {
  "kernelspec": {
   "display_name": "Python 3 (ipykernel)",
   "language": "python",
   "name": "python3"
  },
  "language_info": {
   "codemirror_mode": {
    "name": "ipython",
    "version": 3
   },
   "file_extension": ".py",
   "mimetype": "text/x-python",
   "name": "python",
   "nbconvert_exporter": "python",
   "pygments_lexer": "ipython3",
   "version": "3.10.5"
  }
 },
 "nbformat": 4,
 "nbformat_minor": 5
}
